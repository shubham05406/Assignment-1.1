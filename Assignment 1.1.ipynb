{
 "cells": [
  {
   "cell_type": "markdown",
   "id": "1d9430e6",
   "metadata": {},
   "source": [
    "Data types\n",
    "\n",
    "What are primitive data types in programming, and can you give examples?\n",
    "Explain the difference between int and float data types.\n",
    "What is a data structure, and how does it differ from a primitive data type?\n",
    "What is type casting or type conversion, and why is it important?\n",
    "What are the characteristics of a string data type in programming?\n",
    "\n",
    "Operators:\n",
    "\n",
    "Explain the difference between unary, binary, and ternary operators with examples.\n",
    "What is the difference between the \"==\" and \"===\" operators in JavaScript?\n",
    "Describe the purpose and usage of the \"&&\" and \"||\" logical operators.\n",
    "How does the modulo operator (%) work, and what are its common use cases?\n",
    "What is operator precedence, and why is it important in programming?\n",
    "\n",
    "Conditional Statements:\n",
    "\n",
    "What is the purpose of an \"if\" statement, and how does it work?\n",
    "What are the differences between \"if,\" \"else if,\" and \"else\" statements?\n",
    "Explain the concept of a switch statement and provide an example.\n",
    "How can you use conditional (ternary) operators in place of \"if-else\" statements?\n",
    "What is a short-circuit evaluation in conditional statements, and why is it useful?\n",
    "\n",
    "Looping Statements:\n",
    "\n",
    "Explain the differences between \"for,\" \"while,\" and \"do-while\" loops.\n",
    "How do you prevent an infinite loop, and what are common strategies for breaking out of loops?\n",
    "What is the \"break\" statement, and how is it used in loops?\n",
    "Describe the \"continue\" statement and provide a scenario where it would be helpful.\n",
    "How can you iterate through elements in an array using a loop?\n",
    "\n",
    "Functions:\n",
    "\n",
    "What is a function in programming, and why are they useful?\n",
    "Explain the difference between a function declaration and a function expression.\n",
    "How do you pass arguments to a function, and what are parameters in a function?\n",
    "What is the return statement, and how does it work in functions?\n",
    "Describe the concept of function scope and local variables.\n",
    "What is function overloading, and is it supported in all programming languages?\n",
    "How can you create a recursive function, and what are its advantages and disadvantages?\n",
    "Explain the concept of function callbacks and their use in asynchronous programming."
   ]
  }
 ],
 "metadata": {
  "kernelspec": {
   "display_name": "Python 3 (ipykernel)",
   "language": "python",
   "name": "python3"
  },
  "language_info": {
   "codemirror_mode": {
    "name": "ipython",
    "version": 3
   },
   "file_extension": ".py",
   "mimetype": "text/x-python",
   "name": "python",
   "nbconvert_exporter": "python",
   "pygments_lexer": "ipython3",
   "version": "3.9.12"
  }
 },
 "nbformat": 4,
 "nbformat_minor": 5
}
